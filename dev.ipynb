{
 "cells": [
  {
   "cell_type": "code",
   "execution_count": 1,
   "metadata": {},
   "outputs": [
    {
     "name": "stdout",
     "output_type": "stream",
     "text": [
      "Defaulting to user installation because normal site-packages is not writeable\n",
      "Requirement already satisfied: PyMuPDF in /home/vscode/.local/lib/python3.12/site-packages (1.25.1)\n",
      "Defaulting to user installation because normal site-packages is not writeable\n",
      "Requirement already satisfied: pillow in /home/vscode/.local/lib/python3.12/site-packages (11.0.0)\n",
      "Defaulting to user installation because normal site-packages is not writeable\n",
      "Requirement already satisfied: pandas in /home/vscode/.local/lib/python3.12/site-packages (2.2.3)\n",
      "Requirement already satisfied: numpy>=1.26.0 in /home/vscode/.local/lib/python3.12/site-packages (from pandas) (2.2.1)\n",
      "Requirement already satisfied: python-dateutil>=2.8.2 in /home/vscode/.local/lib/python3.12/site-packages (from pandas) (2.9.0.post0)\n",
      "Requirement already satisfied: pytz>=2020.1 in /home/vscode/.local/lib/python3.12/site-packages (from pandas) (2024.2)\n",
      "Requirement already satisfied: tzdata>=2022.7 in /home/vscode/.local/lib/python3.12/site-packages (from pandas) (2024.2)\n",
      "Requirement already satisfied: six>=1.5 in /home/vscode/.local/lib/python3.12/site-packages (from python-dateutil>=2.8.2->pandas) (1.17.0)\n"
     ]
    }
   ],
   "source": [
    "!pip install PyMuPDF\n",
    "!pip install pillow\n",
    "!pip install pandas"
   ]
  },
  {
   "cell_type": "code",
   "execution_count": 14,
   "metadata": {},
   "outputs": [
    {
     "name": "stdout",
     "output_type": "stream",
     "text": [
      "Defaulting to user installation because normal site-packages is not writeable\n",
      "Requirement already satisfied: PyMuPDF in /home/vscode/.local/lib/python3.12/site-packages (1.25.1)\n",
      "Defaulting to user installation because normal site-packages is not writeable\n",
      "Requirement already satisfied: Pillow in /home/vscode/.local/lib/python3.12/site-packages (11.0.0)\n",
      "Defaulting to user installation because normal site-packages is not writeable\n",
      "Requirement already satisfied: pytesseract in /home/vscode/.local/lib/python3.12/site-packages (0.3.13)\n",
      "Requirement already satisfied: packaging>=21.3 in /home/vscode/.local/lib/python3.12/site-packages (from pytesseract) (24.2)\n",
      "Requirement already satisfied: Pillow>=8.0.0 in /home/vscode/.local/lib/python3.12/site-packages (from pytesseract) (11.0.0)\n",
      "Page 1:\n",
      "Text: Heck\n",
      "BBox (image coords): (3919, 1568, 83, 49)\n",
      "\n"
     ]
    }
   ],
   "source": [
    "!pip install PyMuPDF\n",
    "!pip install Pillow\n",
    "!pip install pytesseract\n",
    "\n",
    "import fitz\n",
    "import pytesseract\n",
    "from PIL import Image\n",
    "import io\n",
    "\n",
    "def ocr_pdf_with_positions(pdf_path, search_word, dpi=300):\n",
    "    doc = fitz.open(pdf_path)\n",
    "    results = []\n",
    "    for page_index in range(doc.page_count):\n",
    "        page = doc[page_index]\n",
    "        pix = page.get_pixmap(dpi=dpi)\n",
    "        pil_image = Image.frombytes(\"RGB\", [pix.width, pix.height], pix.samples)\n",
    "        ocr_data = pytesseract.image_to_data(pil_image, output_type=pytesseract.Output.DICT)\n",
    "        for i, text in enumerate(ocr_data[\"text\"]):\n",
    "            if search_word.lower() in text.lower():\n",
    "                x = ocr_data[\"left\"][i]\n",
    "                y = ocr_data[\"top\"][i]\n",
    "                w = ocr_data[\"width\"][i]\n",
    "                h = ocr_data[\"height\"][i]\n",
    "                results.append({\n",
    "                    \"page_number\": page_index + 1,\n",
    "                    \"found_text\": text,\n",
    "                    \"bbox_image_coords\": (x, y, w, h)\n",
    "                })\n",
    "    return results\n",
    "\n",
    "pdf_path = \"./Gold_Coast_VTC_28NOV2024.pdf\"\n",
    "word_to_find = \"heck\"\n",
    "found_positions = ocr_pdf_with_positions(pdf_path, word_to_find)\n",
    "\n",
    "for item in found_positions:\n",
    "    print(\n",
    "        f\"Page {item['page_number']}:\\n\"\n",
    "        f\"Text: {item['found_text']}\\n\"\n",
    "        f\"BBox (image coords): {item['bbox_image_coords']}\\n\"\n",
    "    )\n"
   ]
  },
  {
   "cell_type": "code",
   "execution_count": 15,
   "metadata": {},
   "outputs": [
    {
     "name": "stdout",
     "output_type": "stream",
     "text": [
      "Page 1:\n",
      "BBox (image coords): (0, 0, 6142, 12048)\n",
      "\n"
     ]
    }
   ],
   "source": [
    "def get_page_bounding_box(pdf_path, dpi=300):\n",
    "    doc = fitz.open(pdf_path)\n",
    "    page_bounding_boxes = []\n",
    "    for page_index in range(doc.page_count):\n",
    "        page = doc[page_index]\n",
    "        pix = page.get_pixmap(dpi=dpi)\n",
    "        width, height = pix.width, pix.height\n",
    "        page_bounding_boxes.append({\n",
    "            \"page_number\": page_index + 1,\n",
    "            \"bbox_image_coords\": (0, 0, width, height)\n",
    "        })\n",
    "    return page_bounding_boxes\n",
    "\n",
    "page_bounding_boxes = get_page_bounding_box(pdf_path)\n",
    "\n",
    "for item in page_bounding_boxes:\n",
    "    print(\n",
    "        f\"Page {item['page_number']}:\\n\"\n",
    "        f\"BBox (image coords): {item['bbox_image_coords']}\\n\"\n",
    "    )\n"
   ]
  },
  {
   "cell_type": "code",
   "execution_count": 2,
   "metadata": {},
   "outputs": [
    {
     "name": "stdout",
     "output_type": "stream",
     "text": [
      "Defaulting to user installation because normal site-packages is not writeable\n",
      "Collecting matplotlib\n",
      "  Downloading matplotlib-3.10.0-cp312-cp312-manylinux_2_17_x86_64.manylinux2014_x86_64.whl.metadata (11 kB)\n",
      "Collecting contourpy>=1.0.1 (from matplotlib)\n",
      "  Downloading contourpy-1.3.1-cp312-cp312-manylinux_2_17_x86_64.manylinux2014_x86_64.whl.metadata (5.4 kB)\n",
      "Collecting cycler>=0.10 (from matplotlib)\n",
      "  Downloading cycler-0.12.1-py3-none-any.whl.metadata (3.8 kB)\n",
      "Collecting fonttools>=4.22.0 (from matplotlib)\n",
      "  Downloading fonttools-4.55.3-cp312-cp312-manylinux_2_5_x86_64.manylinux1_x86_64.manylinux_2_17_x86_64.manylinux2014_x86_64.whl.metadata (165 kB)\n",
      "Collecting kiwisolver>=1.3.1 (from matplotlib)\n",
      "  Downloading kiwisolver-1.4.7-cp312-cp312-manylinux_2_17_x86_64.manylinux2014_x86_64.whl.metadata (6.3 kB)\n",
      "Requirement already satisfied: numpy>=1.23 in /home/vscode/.local/lib/python3.12/site-packages (from matplotlib) (2.2.1)\n",
      "Requirement already satisfied: packaging>=20.0 in /home/vscode/.local/lib/python3.12/site-packages (from matplotlib) (24.2)\n",
      "Requirement already satisfied: pillow>=8 in /home/vscode/.local/lib/python3.12/site-packages (from matplotlib) (11.0.0)\n",
      "Collecting pyparsing>=2.3.1 (from matplotlib)\n",
      "  Downloading pyparsing-3.2.0-py3-none-any.whl.metadata (5.0 kB)\n",
      "Requirement already satisfied: python-dateutil>=2.7 in /home/vscode/.local/lib/python3.12/site-packages (from matplotlib) (2.9.0.post0)\n",
      "Requirement already satisfied: six>=1.5 in /home/vscode/.local/lib/python3.12/site-packages (from python-dateutil>=2.7->matplotlib) (1.17.0)\n",
      "Downloading matplotlib-3.10.0-cp312-cp312-manylinux_2_17_x86_64.manylinux2014_x86_64.whl (8.6 MB)\n",
      "\u001b[2K   \u001b[90m━━━━━━━━━━━━━━━━━━━━━━━━━━━━━━━━━━━━━━━━\u001b[0m \u001b[32m8.6/8.6 MB\u001b[0m \u001b[31m41.4 MB/s\u001b[0m eta \u001b[36m0:00:00\u001b[0m00:01\u001b[0m\n",
      "\u001b[?25hDownloading contourpy-1.3.1-cp312-cp312-manylinux_2_17_x86_64.manylinux2014_x86_64.whl (323 kB)\n",
      "Downloading cycler-0.12.1-py3-none-any.whl (8.3 kB)\n",
      "Downloading fonttools-4.55.3-cp312-cp312-manylinux_2_5_x86_64.manylinux1_x86_64.manylinux_2_17_x86_64.manylinux2014_x86_64.whl (4.9 MB)\n",
      "\u001b[2K   \u001b[90m━━━━━━━━━━━━━━━━━━━━━━━━━━━━━━━━━━━━━━━━\u001b[0m \u001b[32m4.9/4.9 MB\u001b[0m \u001b[31m40.0 MB/s\u001b[0m eta \u001b[36m0:00:00\u001b[0m\n",
      "\u001b[?25hDownloading kiwisolver-1.4.7-cp312-cp312-manylinux_2_17_x86_64.manylinux2014_x86_64.whl (1.5 MB)\n",
      "\u001b[2K   \u001b[90m━━━━━━━━━━━━━━━━━━━━━━━━━━━━━━━━━━━━━━━━\u001b[0m \u001b[32m1.5/1.5 MB\u001b[0m \u001b[31m30.2 MB/s\u001b[0m eta \u001b[36m0:00:00\u001b[0m\n",
      "\u001b[?25hDownloading pyparsing-3.2.0-py3-none-any.whl (106 kB)\n",
      "Installing collected packages: pyparsing, kiwisolver, fonttools, cycler, contourpy, matplotlib\n",
      "Successfully installed contourpy-1.3.1 cycler-0.12.1 fonttools-4.55.3 kiwisolver-1.4.7 matplotlib-3.10.0 pyparsing-3.2.0\n"
     ]
    },
    {
     "data": {
      "image/png": "[encoded data removed]",
      "text/plain": [
       "<Figure size 600x1200 with 1 Axes>"
      ]
     },
     "metadata": {},
     "output_type": "display_data"
    }
   ],
   "source": [
    "!pip install matplotlib\n",
    "\n",
    "import matplotlib.pyplot as plt\n",
    "import matplotlib.patches as patches\n",
    "\n",
    "# Page bounding box dimensions\n",
    "page_width, page_height = 6142, 12048\n",
    "\n",
    "# Text bounding box dimensions (heck)\n",
    "text_bbox = (3919, 1568, 83, 49)  # (x, y, width, height)\n",
    "text_x, text_y, text_w, text_h = text_bbox\n",
    "\n",
    "# Create a visualization\n",
    "fig, ax = plt.subplots(figsize=(6, 12))\n",
    "ax.set_xlim(0, page_width)\n",
    "ax.set_ylim(page_height, 0)  # Invert y-axis for correct orientation\n",
    "\n",
    "# Add the page bounding box\n",
    "page_rect = patches.Rectangle((0, 0), page_width, page_height, linewidth=1, edgecolor='blue', facecolor='none', label='Page BBox')\n",
    "ax.add_patch(page_rect)\n",
    "\n",
    "# Add the text bounding box\n",
    "text_rect = patches.Rectangle((text_x, text_y), text_w, text_h, linewidth=1, edgecolor='red', facecolor='none', label='Text BBox (heck)')\n",
    "ax.add_patch(text_rect)\n",
    "\n",
    "# Annotate\n",
    "ax.annotate(\"Text ('heck')\", (text_x + text_w / 2, text_y - 20), color='red', ha='center')\n",
    "ax.set_title(\"Relationship Between Page and Text Bounding Boxes\")\n",
    "ax.legend()\n",
    "\n",
    "# Ensure the visualization appears inline\n",
    "plt.gca().set_aspect('equal', adjustable='box')\n",
    "plt.show()\n"
   ]
  }
 ],
 "metadata": {
  "kernelspec": {
   "display_name": "Python 3",
   "language": "python",
   "name": "python3"
  },
  "language_info": {
   "codemirror_mode": {
    "name": "ipython",
    "version": 3
   },
   "file_extension": ".py",
   "mimetype": "text/x-python",
   "name": "python",
   "nbconvert_exporter": "python",
   "pygments_lexer": "ipython3",
   "version": "3.12.8"
  }
 },
 "nbformat": 4,
 "nbformat_minor": 2
}
